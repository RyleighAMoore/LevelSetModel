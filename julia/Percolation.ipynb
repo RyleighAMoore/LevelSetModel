{
 "cells": [
  {
   "cell_type": "code",
   "execution_count": 1,
   "metadata": {},
   "outputs": [],
   "source": [
    "using Formatting\n",
    "using FileIO\n",
    "using Distributed\n",
    "using Plots\n",
    "#using PyPlot\n",
    "using JSON\n",
    "include(\"./Percolation.jl\")\n",
    "using .Percolation\n",
    "using UUIDs\n",
    "using Dates"
   ]
  },
  {
   "cell_type": "code",
   "execution_count": 2,
   "metadata": {},
   "outputs": [
    {
     "data": {
      "text/plain": [
       "Plots.PyPlotBackend()"
      ]
     },
     "execution_count": 2,
     "metadata": {},
     "output_type": "execute_result"
    }
   ],
   "source": [
    "pyplot()"
   ]
  },
  {
   "cell_type": "code",
   "execution_count": 5,
   "metadata": {},
   "outputs": [
    {
     "data": {
      "text/plain": [
       "MainCode"
      ]
     },
     "execution_count": 5,
     "metadata": {},
     "output_type": "execute_result"
    }
   ],
   "source": [
    "\n",
    "\"\"\"\n",
    "    ```MainCode(p; numSurf=500, labeling_neighborhood=4, graphs=[\"histogram\", \"percgraph\"], \n",
    "                     decRound=10, deltaX=0.001, accuracy=0.1, perc_direction=\"vertical\")\n",
    "    ```\n",
    "p=[p1,p2] which are between 0 and 1.\n",
    "numSurf: Number of surfaces to test\n",
    "labeling_neighborhood: 4 nearest neighbor, 8 next nearest neighbor\n",
    "graphNums: list of graph types to generate\n",
    "deltaX:\n",
    "accuracy:\n",
    "perc_direction:\n",
    "\"\"\"\n",
    "function MainCode(p; numSurf=500, labeling_neighborhood=4, graphs=[\"histogram\", \"percgraph\"], \n",
    "                     decRound=2, deltaX=0.001, accuracy=0.1, perc_direction=\"vertical\")\n",
    "\n",
    "    startTime = now()\n",
    "    odir = string(uuid4())\n",
    "    if ! isdir(odir)\n",
    "        mkpath(odir)\n",
    "    end\n",
    "    areaFracs = []\n",
    "    PAall =[]\n",
    "    NPAall =[]\n",
    "    z = nothing \n",
    "    joinpath(odir, \"levelsets\")\n",
    "    for r=1:1:numSurf\n",
    "        if r % 10 == 0\n",
    "            println(\"iteration # \",r)\n",
    "        end\n",
    "        rodir = string(\"levelsets\", format(r, width=4, zeropadding=true ))\n",
    "        Af, PA, NPA = process_surface(p, joinpath(odir, rodir); \n",
    "                         labeling_neighborhood=labeling_neighborhood,\n",
    "                         accuracy=accuracy,\n",
    "                         n=20, r=500, levels=100,\n",
    "                         perc_direction=perc_direction)\n",
    "        \n",
    "        areaFracs = append!(areaFracs, Af)\n",
    "        PAall = append!(PAall, PA)\n",
    "        NPAall = append!(NPAall, NPA)\n",
    "    end\n",
    "    println(\"Saving intermediate data\")\n",
    "\n",
    "    endtime = now()\n",
    "    data = Dict(\"areaFracs\"=>areaFracs, \n",
    "                   \"PAall\"=>PAall,\n",
    "                   \"NPAall\"=>NPAall)\n",
    "    open(joinpath(odir, \"data.json\"), \"w\") do f\n",
    "        write(f, JSON.json(data))\n",
    "    end\n",
    "    println(\"Generating graphs\")\n",
    "    if \"percgraph\" in graphs\n",
    "        pc = graphPc(odir, deltaX, p, PAall, NPAall, \n",
    "                     labeling_neighborhood, numSurf, decRound=decRound)\n",
    "    else\n",
    "        pc = nothing\n",
    "    end\n",
    "    summary = Dict(\"UUID\"=>odir, \n",
    "                   \"startTime\"=>startTime,\n",
    "                   \"endTime\"=>endtime,\n",
    "                   \"p\"=>p, \n",
    "                   \"numSurf\"=>numSurf, \n",
    "                   \"labeling_neighborhood\"=>labeling_neighborhood, \n",
    "                   \"decRound\"=>decRound, \n",
    "                   \"deltaX\"=>deltaX, \n",
    "                   \"accuracy\"=>accuracy, \n",
    "                   \"perc_direction\"=>perc_direction,\n",
    "                   \"pc\"=>pc)\n",
    "    \n",
    "    open(joinpath(odir, \"summary.json\"), \"w\") do f\n",
    "        write(f, JSON.json(data))\n",
    "    end\n",
    "\n",
    "end"
   ]
  },
  {
   "cell_type": "code",
   "execution_count": 4,
   "metadata": {},
   "outputs": [
    {
     "name": "stdout",
     "output_type": "stream",
     "text": [
      "iteration # 10\n",
      "iteration # 20\n",
      "iteration # 30\n",
      "iteration # 40\n",
      "iteration # 50\n",
      "iteration # 60\n",
      "iteration # 70\n",
      "iteration # 80\n",
      "iteration # 90\n",
      "iteration # 100\n",
      "iteration # 110\n",
      "iteration # 120\n",
      "iteration # 130\n",
      "iteration # 140\n",
      "iteration # 150\n",
      "iteration # 160\n",
      "iteration # 170\n",
      "iteration # 180\n",
      "iteration # 190\n",
      "iteration # 200\n",
      "iteration # 210\n",
      "iteration # 220\n",
      "iteration # 230\n",
      "iteration # 240\n",
      "iteration # 250\n",
      "iteration # 260\n",
      "iteration # 270\n",
      "iteration # 280\n",
      "iteration # 290\n",
      "iteration # 300\n",
      "iteration # 310\n",
      "iteration # 320\n",
      "iteration # 330\n",
      "iteration # 340\n",
      "iteration # 350\n",
      "iteration # 360\n",
      "iteration # 370\n",
      "iteration # 380\n",
      "iteration # 390\n",
      "iteration # 400\n",
      "iteration # 410\n",
      "iteration # 420\n",
      "iteration # 430\n",
      "iteration # 440\n",
      "iteration # 450\n",
      "iteration # 460\n",
      "iteration # 470\n",
      "iteration # 480\n",
      "iteration # 490\n",
      "iteration # 500\n",
      "Saving intermediate data\n"
     ]
    },
    {
     "data": {
      "image/png": "[encoded data removed]",
      "text/plain": [
       "PyPlot.Figure(PyObject <Figure size 600x400 with 1 Axes>)"
      ]
     },
     "metadata": {},
     "output_type": "display_data"
    },
    {
     "name": "stdout",
     "output_type": "stream",
     "text": [
      "Generating graphs\n"
     ]
    },
    {
     "name": "stderr",
     "output_type": "stream",
     "text": [
      "'c' argument looks like a single numeric RGB or RGBA sequence, which should be avoided as value-mapping will have precedence in case its length matches with 'x' & 'y'.  Please use a 2-D array with a single row if you really want to specify the same RGB or RGBA value for all points.\n"
     ]
    },
    {
     "data": {
      "text/plain": [
       "0.49"
      ]
     },
     "execution_count": 4,
     "metadata": {},
     "output_type": "execute_result"
    }
   ],
   "source": [
    "MainCode([0.45, 0.65], numSurf=500)"
   ]
  },
  {
   "cell_type": "code",
   "execution_count": null,
   "metadata": {},
   "outputs": [],
   "source": []
  }
 ],
 "metadata": {
  "kernelspec": {
   "display_name": "Julia 1.0.2",
   "language": "julia",
   "name": "julia-1.0"
  },
  "language_info": {
   "file_extension": ".jl",
   "mimetype": "application/julia",
   "name": "julia",
   "version": "1.0.2"
  }
 },
 "nbformat": 4,
 "nbformat_minor": 2
}
