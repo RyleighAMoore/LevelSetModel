{
 "cells": [
  {
   "cell_type": "code",
   "execution_count": 1,
   "metadata": {},
   "outputs": [
    {
     "data": {
      "text/plain": [
       "4-element Array{Int64,1}:\n",
       " 2\n",
       " 3\n",
       " 4\n",
       " 5"
      ]
     },
     "execution_count": 1,
     "metadata": {},
     "output_type": "execute_result"
    }
   ],
   "source": [
    "using Distributed\n",
    "addprocs(4)"
   ]
  },
  {
   "cell_type": "code",
   "execution_count": 2,
   "metadata": {},
   "outputs": [],
   "source": [
    "using Plots\n",
    "#using PyPlot\n",
    "using JSON\n",
    "@everywhere include(\"./Percolation.jl\")\n",
    "@everywhere using .Percolation\n",
    "using UUIDs\n",
    "using Dates\n",
    "using SQLite"
   ]
  },
  {
   "cell_type": "code",
   "execution_count": 3,
   "metadata": {},
   "outputs": [],
   "source": [
    "@everywhere begin\n",
    "    using Formatting\n",
    "    using SymPy\n",
    "    using Images\n",
    "    using FileIO\n",
    "    using Distributed\n",
    "    using Plots\n",
    "end"
   ]
  },
  {
   "cell_type": "code",
   "execution_count": 4,
   "metadata": {},
   "outputs": [],
   "source": [
    "@everywhere using DistributedArrays"
   ]
  },
  {
   "cell_type": "code",
   "execution_count": 5,
   "metadata": {},
   "outputs": [],
   "source": [
    "using BenchmarkTools"
   ]
  },
  {
   "cell_type": "code",
   "execution_count": 6,
   "metadata": {
    "format": "row"
   },
   "outputs": [],
   "source": [
    "@everywhere pyplot()"
   ]
  },
  {
   "cell_type": "code",
   "execution_count": 7,
   "metadata": {},
   "outputs": [
    {
     "data": {
      "text/plain": [
       "write_sqlite (generic function with 1 method)"
      ]
     },
     "execution_count": 7,
     "metadata": {},
     "output_type": "execute_result"
    }
   ],
   "source": [
    "function write_sqlite(r;dbname=\"perc.sqlite\")\n",
    "    conn = SQLite.DB(\"perc.sqlite\")\n",
    "    SQLite.query(conn, \"\"\"INSERT INTO\n",
    "                         simulations(\n",
    "                         pc,\n",
    "                         p1,\n",
    "                         p2,\n",
    "                         num_surfaces,\n",
    "                         start_time,\n",
    "                         end_time,\n",
    "                         labeling_neighborhood,\n",
    "                         dec_round, \n",
    "                         deltax,\n",
    "                         accuracy, \n",
    "                         perc_direction,\n",
    "                         data_dir,\n",
    "                         user)\n",
    "    VALUES(?,?,?,?,?,?,?,?,?,?,?,?,?)\"\"\",\n",
    "    values=[r[\"pc\"], r[\"p\"][1], r[\"p\"][2], r[\"numSurf\"], \n",
    "            string(r[\"startTime\"]), string(r[\"endTime\"]), \n",
    "            r[\"labeling_neighborhood\"], r[\"decRound\"],\n",
    "            r[\"deltaX\"], r[\"accuracy\"], r[\"perc_direction\"], \n",
    "            r[\"data_dir\"], r[\"user\"]])\n",
    "end"
   ]
  },
  {
   "cell_type": "code",
   "execution_count": 8,
   "metadata": {},
   "outputs": [
    {
     "data": {
      "text/plain": [
       "5-element DArray{Int64,1,Array{Int64,1}}:\n",
       " 1\n",
       " 2\n",
       " 3\n",
       " 4\n",
       " 5"
      ]
     },
     "execution_count": 8,
     "metadata": {},
     "output_type": "execute_result"
    }
   ],
   "source": [
    "C = procs()\n",
    "D = distribute(C)"
   ]
  },
  {
   "cell_type": "code",
   "execution_count": 31,
   "metadata": {},
   "outputs": [
    {
     "data": {
      "text/plain": [
       "runSurfaces"
      ]
     },
     "execution_count": 31,
     "metadata": {},
     "output_type": "execute_result"
    }
   ],
   "source": [
    "\"\"\"\n",
    "    ```MainCode(p; numSurf=500, labeling_neighborhood=4, graphs=[\"histogram\", \"percgraph\"], \n",
    "                     decRound=10, deltaX=0.001, accuracy=0.1, perc_direction=\"vertical\")\n",
    "    ```\n",
    "p=[p1,p2] which are between 0 and 1.\n",
    "numSurf: Number of surfaces to test\n",
    "labeling_neighborhood: 4 nearest neighbor, 8 next nearest neighbor\n",
    "graphNums: list of graph types to generate\n",
    "deltaX:\n",
    "accuracy:\n",
    "perc_direction:\n",
    "\"\"\"\n",
    "function runSurfaces(p; numSurf=500, labeling_neighborhood=4, graphs=[\"histogram\", \"percgraph\"], \n",
    "                     decRound=2, deltaX=0.001, accuracy=0.1, perc_direction=\"vertical\")\n",
    "\n",
    "    user = ENV[\"USER\"]\n",
    "    \n",
    "    ddir = string(uuid4())\n",
    "    odir = joinpath(\"data\", ddir)\n",
    "    if ! isdir(odir)\n",
    "        mkpath(odir)\n",
    "    end\n",
    "\n",
    "    startTime = now()\n",
    "    ssurfaces = collect(1:numSurf);\n",
    "    psurfaces = distribute(ssurfaces);\n",
    "    a = (r -> process_surface(p, joinpath(odir, \n",
    "                    string(\"levelsets\", format(r, width=4, zeropadding=true ))),\n",
    "                         labeling_neighborhood=labeling_neighborhood,\n",
    "                         accuracy=accuracy,\n",
    "                         n=20, r=500, levels=100,\n",
    "                         perc_direction=perc_direction))\n",
    "    rslts = map(a, psurfaces)\n",
    "    return rslts\n",
    "end"
   ]
  },
  {
   "cell_type": "code",
   "execution_count": 33,
   "metadata": {},
   "outputs": [
    {
     "data": {
      "text/plain": [
       "10"
      ]
     },
     "execution_count": 33,
     "metadata": {},
     "output_type": "execute_result"
    }
   ],
   "source": [
    "length(rslts)"
   ]
  },
  {
   "cell_type": "code",
   "execution_count": 34,
   "metadata": {},
   "outputs": [],
   "source": [
    "rslts = runSurfaces([0.45, 0.75], numSurf=500);"
   ]
  },
  {
   "cell_type": "code",
   "execution_count": 35,
   "metadata": {},
   "outputs": [
    {
     "data": {
      "text/plain": [
       "500"
      ]
     },
     "execution_count": 35,
     "metadata": {},
     "output_type": "execute_result"
    }
   ],
   "source": [
    "length(rslts)"
   ]
  },
  {
   "cell_type": "code",
   "execution_count": 41,
   "metadata": {},
   "outputs": [],
   "source": [
    "areaFractions = [r[1] for r in rslts];\n",
    "PAall = reduce(append!, [r[2] for r in rslts]);\n",
    "NPAall = reduce(append!, [r[3] for r in rslts]);"
   ]
  },
  {
   "cell_type": "code",
   "execution_count": 42,
   "metadata": {},
   "outputs": [
    {
     "data": {
      "text/plain": [
       "\"data/b9afa54a-efdb-4d32-a860-d3ca43ae6988\""
      ]
     },
     "execution_count": 42,
     "metadata": {},
     "output_type": "execute_result"
    }
   ],
   "source": [
    "odir = \"data/b9afa54a-efdb-4d32-a860-d3ca43ae6988\""
   ]
  },
  {
   "cell_type": "code",
   "execution_count": 43,
   "metadata": {},
   "outputs": [
    {
     "data": {
      "image/png": "[encoded data removed]",
      "text/plain": [
       "PyPlot.Figure(PyObject <Figure size 600x400 with 1 Axes>)"
      ]
     },
     "metadata": {},
     "output_type": "display_data"
    },
    {
     "name": "stderr",
     "output_type": "stream",
     "text": [
      "'c' argument looks like a single numeric RGB or RGBA sequence, which should be avoided as value-mapping will have precedence in case its length matches with 'x' & 'y'.  Please use a 2-D array with a single row if you really want to specify the same RGB or RGBA value for all points.\n"
     ]
    },
    {
     "data": {
      "text/plain": [
       "0.49"
      ]
     },
     "execution_count": 43,
     "metadata": {},
     "output_type": "execute_result"
    }
   ],
   "source": [
    "graphPc(odir, 0.001, [0.45, 0.75], PAall, NPAall, \n",
    "                     4, 500, decRound=2)"
   ]
  },
  {
   "cell_type": "code",
   "execution_count": 15,
   "metadata": {},
   "outputs": [
    {
     "data": {
      "text/plain": [
       "MainCodeS"
      ]
     },
     "execution_count": 15,
     "metadata": {},
     "output_type": "execute_result"
    }
   ],
   "source": [
    "\"\"\"\n",
    "    ```MainCode(p; numSurf=500, labeling_neighborhood=4, graphs=[\"histogram\", \"percgraph\"], \n",
    "                     decRound=10, deltaX=0.001, accuracy=0.1, perc_direction=\"vertical\")\n",
    "    ```\n",
    "p=[p1,p2] which are between 0 and 1.\n",
    "numSurf: Number of surfaces to test\n",
    "labeling_neighborhood: 4 nearest neighbor, 8 next nearest neighbor\n",
    "graphNums: list of graph types to generate\n",
    "deltaX:\n",
    "accuracy:\n",
    "perc_direction:\n",
    "\"\"\"\n",
    "function MainCodeS(p; numSurf=500, labeling_neighborhood=4, graphs=[\"histogram\", \"percgraph\"], \n",
    "                     decRound=2, deltaX=0.001, accuracy=0.1, perc_direction=\"vertical\")\n",
    "\n",
    "    user = ENV[\"USER\"]\n",
    "    \n",
    "    ddir = string(uuid4())\n",
    "    odir = joinpath(\"data\", ddir)\n",
    "    if ! isdir(odir)\n",
    "        mkpath(odir)\n",
    "    end\n",
    "    areaFracs = []\n",
    "    PAall =[]\n",
    "    NPAall =[]\n",
    "    z = nothing \n",
    "    joinpath(odir, \"levelsets\")\n",
    "    startTime = now()\n",
    "    ssurfaces = collect(1:numSurf);\n",
    "    a = (r -> process_surface(p, joinpath(odir, \n",
    "                    string(\"levelsets\", format(r, width=4, zeropadding=true ))),\n",
    "                         labeling_neighborhood=labeling_neighborhood,\n",
    "                         accuracy=accuracy,\n",
    "                         n=20, r=r, levels=100,\n",
    "                         perc_direction=perc_direction))\n",
    "    rslts = map(a, ssurfaces)\n",
    "    return rslts\n",
    "end"
   ]
  },
  {
   "cell_type": "code",
   "execution_count": null,
   "metadata": {},
   "outputs": [],
   "source": [
    "@time walk(100)"
   ]
  },
  {
   "cell_type": "code",
   "execution_count": null,
   "metadata": {},
   "outputs": [],
   "source": [
    "Percolation.walk"
   ]
  },
  {
   "cell_type": "code",
   "execution_count": null,
   "metadata": {},
   "outputs": [],
   "source": []
  }
 ],
 "metadata": {
  "kernelspec": {
   "display_name": "Julia 1.0.2",
   "language": "julia",
   "name": "julia-1.0"
  },
  "language_info": {
   "file_extension": ".jl",
   "mimetype": "application/julia",
   "name": "julia",
   "version": "1.0.2"
  }
 },
 "nbformat": 4,
 "nbformat_minor": 2
}
