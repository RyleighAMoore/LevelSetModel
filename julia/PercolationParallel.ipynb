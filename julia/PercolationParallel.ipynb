{
 "cells": [
  {
   "cell_type": "code",
   "execution_count": 1,
   "metadata": {},
   "outputs": [
    {
     "data": {
      "text/plain": [
       "15-element Array{Int64,1}:\n",
       "  2\n",
       "  3\n",
       "  4\n",
       "  5\n",
       "  6\n",
       "  7\n",
       "  8\n",
       "  9\n",
       " 10\n",
       " 11\n",
       " 12\n",
       " 13\n",
       " 14\n",
       " 15\n",
       " 16"
      ]
     },
     "execution_count": 1,
     "metadata": {},
     "output_type": "execute_result"
    }
   ],
   "source": [
    "using Distributed\n",
    "addprocs(15)"
   ]
  },
  {
   "cell_type": "code",
   "execution_count": 2,
   "metadata": {},
   "outputs": [],
   "source": [
    "using Plots\n",
    "#using PyPlot\n",
    "using JSON\n",
    "@everywhere include(\"./Percolation.jl\")\n",
    "@everywhere using .Percolation\n",
    "using UUIDs\n",
    "using Dates\n",
    "using SQLite"
   ]
  },
  {
   "cell_type": "code",
   "execution_count": 3,
   "metadata": {},
   "outputs": [],
   "source": [
    "@everywhere begin\n",
    "    using Formatting\n",
    "    using SymPy\n",
    "    using Images\n",
    "    using FileIO\n",
    "    using Distributed\n",
    "    using Plots\n",
    "end"
   ]
  },
  {
   "cell_type": "code",
   "execution_count": 4,
   "metadata": {},
   "outputs": [],
   "source": [
    "@everywhere using DistributedArrays"
   ]
  },
  {
   "cell_type": "code",
   "execution_count": 5,
   "metadata": {
    "format": "row"
   },
   "outputs": [],
   "source": [
    "@everywhere pyplot()"
   ]
  },
  {
   "cell_type": "code",
   "execution_count": null,
   "metadata": {},
   "outputs": [],
   "source": [
    "function write_sqlite(r;dbname=\"perc.sqlite\")\n",
    "    conn = SQLite.DB(\"perc.sqlite\")\n",
    "    SQLite.query(conn, \"\"\"INSERT INTO\n",
    "                         simulations(\n",
    "                         pc,\n",
    "                         p1,\n",
    "                         p2,\n",
    "                         num_surfaces,\n",
    "                         start_time,\n",
    "                         end_time,\n",
    "                         labeling_neighborhood,\n",
    "                         dec_round, \n",
    "                         deltax,\n",
    "                         accuracy, \n",
    "                         perc_direction,\n",
    "                         data_dir,\n",
    "                         user)\n",
    "    VALUES(?,?,?,?,?,?,?,?,?,?,?,?,?)\"\"\",\n",
    "    values=[r[\"pc\"], r[\"p\"][1], r[\"p\"][2], r[\"numSurf\"], \n",
    "            string(r[\"startTime\"]), string(r[\"endTime\"]), \n",
    "            r[\"labeling_neighborhood\"], r[\"decRound\"],\n",
    "            r[\"deltaX\"], r[\"accuracy\"], r[\"perc_direction\"], \n",
    "            r[\"data_dir\"], r[\"user\"]])\n",
    "end"
   ]
  },
  {
   "cell_type": "code",
   "execution_count": null,
   "metadata": {},
   "outputs": [],
   "source": [
    "C = procs()\n",
    "D = distribute(C)"
   ]
  },
  {
   "cell_type": "code",
   "execution_count": 6,
   "metadata": {},
   "outputs": [
    {
     "data": {
      "text/plain": [
       "runSurfaces"
      ]
     },
     "execution_count": 6,
     "metadata": {},
     "output_type": "execute_result"
    }
   ],
   "source": [
    "\"\"\"\n",
    "    ```MainCode(p; numSurf=500, labeling_neighborhood=4, graphs=[\"histogram\", \"percgraph\"], \n",
    "                     decRound=10, deltaX=0.001, accuracy=0.1, perc_direction=\"vertical\")\n",
    "    ```\n",
    "p=[p1,p2] which are between 0 and 1.\n",
    "numSurf: Number of surfaces to test\n",
    "labeling_neighborhood: 4 nearest neighbor, 8 next nearest neighbor\n",
    "graphNums: list of graph types to generate\n",
    "deltaX:\n",
    "accuracy:\n",
    "perc_direction:\n",
    "\"\"\"\n",
    "function runSurfaces(p; numSurf=500, labeling_neighborhood=4, graphs=[\"histogram\", \"percgraph\"], \n",
    "                     decRound=2, deltaX=0.001, accuracy=0.1, perc_direction=\"vertical\")\n",
    "\n",
    "    user = ENV[\"USER\"]\n",
    "    \n",
    "    ddir = string(uuid4())\n",
    "    odir = joinpath(\"data\", ddir)\n",
    "    if ! isdir(odir)\n",
    "        mkpath(odir)\n",
    "    end\n",
    "\n",
    "    startTime = now()\n",
    "    ssurfaces = collect(1:numSurf);\n",
    "    psurfaces = distribute(ssurfaces);\n",
    "    a = (r -> process_surface(p, joinpath(odir, \n",
    "                    string(\"levelsets\", format(r, width=4, zeropadding=true ))),\n",
    "                         labeling_neighborhood=labeling_neighborhood,\n",
    "                         accuracy=accuracy,\n",
    "                         n=20, r=500, levels=100,\n",
    "                         perc_direction=perc_direction))\n",
    "    rslts = map(a, psurfaces)\n",
    "    return rslts, startTime, now()\n",
    "end"
   ]
  },
  {
   "cell_type": "code",
   "execution_count": 11,
   "metadata": {
    "scrolled": true
   },
   "outputs": [
    {
     "name": "stderr",
     "output_type": "stream",
     "text": [
      "Worker 14 terminated.\n"
     ]
    },
    {
     "ename": "CompositeException",
     "evalue": "ProcessExitedException()\ntry_yieldto(::typeof(Base.ensure_rescheduled), ::Base.RefValue{Task}) at ./event.jl:196\nwait() at ./event.jl:255\nwait(::Condition) at ./event.jl:46\ntake_buffered(::Channel{Any}) at ./channels.jl:353\ntake!(::Channel{Any}) at ./channels.jl:306\ntake!(::Distributed.RemoteValue) at /buildworker/worker/package_linux64/build/usr/share/julia/stdlib/v1.0/Distributed/src/remotecall.jl:576\n#remotecall_fetch#149(::Base.Iterators.Pairs{Union{},Union{},Tuple{},NamedTuple{(),Tuple{}}}, ::Function, ::Function, ::Distributed.Worker, ::Function, ::Vararg{Any,N} where N) at /buildworker/worker/package_linux64/build/usr/share/julia/stdlib/v1.0/Distributed/src/remotecall.jl:375\nremotecall_fetch(::Function, ::Distributed.Worker, ::Function, ::Vararg{Any,N} where N) at /buildworker/worker/package_linux64/build/usr/share/julia/stdlib/v1.0/Distributed/src/remotecall.jl:371\n#remotecall_fetch#152(::Base.Iterators.Pairs{Union{},Union{},Tuple{},NamedTuple{(),Tuple{}}}, ::Function, ::Function, ::Int64, ::Function, ::Vararg{Any,N} where N) at /buildworker/worker/package_linux64/build/usr/share/julia/stdlib/v1.0/Distributed/src/remotecall.jl:406\nremotecall_fetch(::Function, ::Int64, ::Function, ::Vararg{Any,N} where N) at /buildworker/worker/package_linux64/build/usr/share/julia/stdlib/v1.0/Distributed/src/remotecall.jl:406\nmacro expansion at /home/brian/.julia/packages/DistributedArrays/XV7NS/src/darray.jl:87 [inlined]\n(::getfield(DistributedArrays, Symbol(\"##1#2\")){Tuple{Int64,Int64},getfield(DistributedArrays, Symbol(\"##118#121\")){Base.Broadcast.Broadcasted{Base.Broadcast.ArrayStyle{DArray},Tuple{Base.OneTo{Int64}},getfield(Main, Symbol(\"##4#5\")){Int64,Float64,String,Array{Float64,1},String},Tuple{DArray{Int64,1,Array{Int64,1}}}},Tuple{Base.OneTo{Int64}}},Tuple{Int64},Array{Int64,1},Array{Tuple{UnitRange{Int64}},1},Array{Array{Int64,1},1},Channel{Any}})() at ./task.jl:259",
     "output_type": "error",
     "traceback": [
      "ProcessExitedException()\ntry_yieldto(::typeof(Base.ensure_rescheduled), ::Base.RefValue{Task}) at ./event.jl:196\nwait() at ./event.jl:255\nwait(::Condition) at ./event.jl:46\ntake_buffered(::Channel{Any}) at ./channels.jl:353\ntake!(::Channel{Any}) at ./channels.jl:306\ntake!(::Distributed.RemoteValue) at /buildworker/worker/package_linux64/build/usr/share/julia/stdlib/v1.0/Distributed/src/remotecall.jl:576\n#remotecall_fetch#149(::Base.Iterators.Pairs{Union{},Union{},Tuple{},NamedTuple{(),Tuple{}}}, ::Function, ::Function, ::Distributed.Worker, ::Function, ::Vararg{Any,N} where N) at /buildworker/worker/package_linux64/build/usr/share/julia/stdlib/v1.0/Distributed/src/remotecall.jl:375\nremotecall_fetch(::Function, ::Distributed.Worker, ::Function, ::Vararg{Any,N} where N) at /buildworker/worker/package_linux64/build/usr/share/julia/stdlib/v1.0/Distributed/src/remotecall.jl:371\n#remotecall_fetch#152(::Base.Iterators.Pairs{Union{},Union{},Tuple{},NamedTuple{(),Tuple{}}}, ::Function, ::Function, ::Int64, ::Function, ::Vararg{Any,N} where N) at /buildworker/worker/package_linux64/build/usr/share/julia/stdlib/v1.0/Distributed/src/remotecall.jl:406\nremotecall_fetch(::Function, ::Int64, ::Function, ::Vararg{Any,N} where N) at /buildworker/worker/package_linux64/build/usr/share/julia/stdlib/v1.0/Distributed/src/remotecall.jl:406\nmacro expansion at /home/brian/.julia/packages/DistributedArrays/XV7NS/src/darray.jl:87 [inlined]\n(::getfield(DistributedArrays, Symbol(\"##1#2\")){Tuple{Int64,Int64},getfield(DistributedArrays, Symbol(\"##118#121\")){Base.Broadcast.Broadcasted{Base.Broadcast.ArrayStyle{DArray},Tuple{Base.OneTo{Int64}},getfield(Main, Symbol(\"##4#5\")){Int64,Float64,String,Array{Float64,1},String},Tuple{DArray{Int64,1,Array{Int64,1}}}},Tuple{Base.OneTo{Int64}}},Tuple{Int64},Array{Int64,1},Array{Tuple{UnitRange{Int64}},1},Array{Array{Int64,1},1},Channel{Any}})() at ./task.jl:259",
      "",
      "Stacktrace:",
      " [1] sync_end(::Array{Any,1}) at ./task.jl:226",
      " [2] macro expansion at /home/brian/.julia/packages/DistributedArrays/XV7NS/src/darray.jl:83 [inlined]",
      " [3] macro expansion at ./task.jl:244 [inlined]",
      " [4] DArray(::Tuple{Int64,Int64}, ::Function, ::Tuple{Int64}, ::Array{Int64,1}, ::Array{Tuple{UnitRange{Int64}},1}, ::Array{Array{Int64,1},1}) at /home/brian/.julia/packages/DistributedArrays/XV7NS/src/darray.jl:82",
      " [5] DArray(::Function, ::Tuple{Int64}, ::Array{Int64,1}, ::Array{Int64,1}) at /home/brian/.julia/packages/DistributedArrays/XV7NS/src/darray.jl:169",
      " [6] Type at /home/brian/.julia/packages/DistributedArrays/XV7NS/src/darray.jl:176 [inlined]",
      " [7] DArray(::Function, ::Tuple{Int64}) at /home/brian/.julia/packages/DistributedArrays/XV7NS/src/darray.jl:178",
      " [8] copy(::Base.Broadcast.Broadcasted{Base.Broadcast.ArrayStyle{DArray},Tuple{Base.OneTo{Int64}},getfield(Main, Symbol(\"##4#5\")){Int64,Float64,String,Array{Float64,1},String},Tuple{DArray{Int64,1,Array{Int64,1}}}}) at /home/brian/.julia/packages/DistributedArrays/XV7NS/src/mapreduce.jl:27",
      " [9] materialize at ./broadcast.jl:748 [inlined]",
      " [10] broadcast(::getfield(Main, Symbol(\"##4#5\")){Int64,Float64,String,Array{Float64,1},String}, ::DArray{Int64,1,Array{Int64,1}}) at ./broadcast.jl:702",
      " [11] map(::Function, ::DArray{Int64,1,Array{Int64,1}}) at /home/brian/.julia/packages/DistributedArrays/XV7NS/src/mapreduce.jl:6",
      " [12] #runSurfaces#3(::Int64, ::Int64, ::Array{String,1}, ::Int64, ::Float64, ::Float64, ::String, ::Function, ::Array{Float64,1}) at ./In[6]:33",
      " [13] (::getfield(Main, Symbol(\"#kw##runSurfaces\")))(::NamedTuple{(:numSurf,),Tuple{Int64}}, ::typeof(runSurfaces), ::Array{Float64,1}) at ./none:0",
      " [14] top-level scope at In[11]:1"
     ]
    }
   ],
   "source": [
    "rslts, startTime, endTime = runSurfaces([0.45, 0.85], numSurf=400);"
   ]
  },
  {
   "cell_type": "code",
   "execution_count": 9,
   "metadata": {},
   "outputs": [
    {
     "data": {
      "text/plain": [
       "(10, 2018-11-26T17:53:01.735, 2018-11-26T17:54:57.872)"
      ]
     },
     "execution_count": 9,
     "metadata": {},
     "output_type": "execute_result"
    }
   ],
   "source": [
    "length(rslts), startTime, endTime"
   ]
  },
  {
   "cell_type": "code",
   "execution_count": null,
   "metadata": {},
   "outputs": [],
   "source": [
    "areaFractions = [r[1] for r in rslts];\n",
    "PAall = reduce(append!, [r[2] for r in rslts]);\n",
    "NPAall = reduce(append!, [r[3] for r in rslts]);"
   ]
  },
  {
   "cell_type": "code",
   "execution_count": null,
   "metadata": {},
   "outputs": [],
   "source": [
    "odir = \"data/b9afa54a-efdb-4d32-a860-d3ca43ae6988\""
   ]
  },
  {
   "cell_type": "code",
   "execution_count": null,
   "metadata": {},
   "outputs": [],
   "source": [
    "graphPc(odir, 0.001, [0.45, 0.75], PAall, NPAall, \n",
    "                     4, 500, decRound=2)"
   ]
  },
  {
   "cell_type": "code",
   "execution_count": null,
   "metadata": {},
   "outputs": [],
   "source": [
    "\"\"\"\n",
    "    ```MainCode(p; numSurf=500, labeling_neighborhood=4, graphs=[\"histogram\", \"percgraph\"], \n",
    "                     decRound=10, deltaX=0.001, accuracy=0.1, perc_direction=\"vertical\")\n",
    "    ```\n",
    "p=[p1,p2] which are between 0 and 1.\n",
    "numSurf: Number of surfaces to test\n",
    "labeling_neighborhood: 4 nearest neighbor, 8 next nearest neighbor\n",
    "graphNums: list of graph types to generate\n",
    "deltaX:\n",
    "accuracy:\n",
    "perc_direction:\n",
    "\"\"\"\n",
    "function MainCodeS(p; numSurf=500, labeling_neighborhood=4, graphs=[\"histogram\", \"percgraph\"], \n",
    "                     decRound=2, deltaX=0.001, accuracy=0.1, perc_direction=\"vertical\")\n",
    "\n",
    "    user = ENV[\"USER\"]\n",
    "    \n",
    "    ddir = string(uuid4())\n",
    "    odir = joinpath(\"data\", ddir)\n",
    "    if ! isdir(odir)\n",
    "        mkpath(odir)\n",
    "    end\n",
    "    areaFracs = []\n",
    "    PAall =[]\n",
    "    NPAall =[]\n",
    "    z = nothing \n",
    "    joinpath(odir, \"levelsets\")\n",
    "    startTime = now()\n",
    "    ssurfaces = collect(1:numSurf);\n",
    "    a = (r -> process_surface(p, joinpath(odir, \n",
    "                    string(\"levelsets\", format(r, width=4, zeropadding=true ))),\n",
    "                         labeling_neighborhood=labeling_neighborhood,\n",
    "                         accuracy=accuracy,\n",
    "                         n=20, r=r, levels=100,\n",
    "                         perc_direction=perc_direction))\n",
    "    rslts = map(a, ssurfaces)\n",
    "    return rslts\n",
    "end"
   ]
  },
  {
   "cell_type": "code",
   "execution_count": null,
   "metadata": {},
   "outputs": [],
   "source": [
    "@time walk(100)"
   ]
  },
  {
   "cell_type": "code",
   "execution_count": null,
   "metadata": {},
   "outputs": [],
   "source": [
    "Percolation.walk"
   ]
  },
  {
   "cell_type": "code",
   "execution_count": null,
   "metadata": {},
   "outputs": [],
   "source": []
  }
 ],
 "metadata": {
  "kernelspec": {
   "display_name": "Julia 1.0.2",
   "language": "julia",
   "name": "julia-1.0"
  },
  "language_info": {
   "file_extension": ".jl",
   "mimetype": "application/julia",
   "name": "julia",
   "version": "1.0.2"
  }
 },
 "nbformat": 4,
 "nbformat_minor": 2
}
